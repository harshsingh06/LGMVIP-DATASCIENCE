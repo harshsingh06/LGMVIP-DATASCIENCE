{
  "nbformat": 4,
  "nbformat_minor": 0,
  "metadata": {
    "colab": {
      "name": "Task3 Stock Market Prediction And Forecasting Using Stacked LSTM.ipynb",
      "provenance": [],
      "authorship_tag": "ABX9TyPMIhNyt6mEaVoXi7IB+gYk",
      "include_colab_link": true
    },
    "kernelspec": {
      "name": "python3",
      "display_name": "Python 3"
    },
    "language_info": {
      "name": "python"
    }
  },
  "cells": [
    {
      "cell_type": "markdown",
      "metadata": {
        "id": "view-in-github",
        "colab_type": "text"
      },
      "source": [
        "<a href=\"https://colab.research.google.com/github/harshsingh06/LGMVIP-DATASCIENCE/blob/main/Task3_Stock_Market_Prediction_And_Forecasting_Using_Stacked_LSTM.ipynb\" target=\"_parent\"><img src=\"https://colab.research.google.com/assets/colab-badge.svg\" alt=\"Open In Colab\"/></a>"
      ]
    },
    {
      "cell_type": "markdown",
      "source": [
        "**Task 3**\n",
        "\n",
        "Name : HARSH SINGH\n",
        "\n",
        "Data Science Internship\n",
        "\n",
        "Stock Market Prediction and Forecast using Stacked LSTM\n",
        "\n",
        "**Dataset**: https://raw.githubusercontent.com/mwitiderrick/stockprice/master/NSE-TATAGLOBAL.csv\n",
        "\n",
        "**Importing Libraries**"
      ],
      "metadata": {
        "id": "rFUyHFXB2LI1"
      }
    },
    {
      "cell_type": "code",
      "source": [
        "import numpy as np\n",
        "import pandas as pd\n",
        "from matplotlib import pyplot as plt\n",
        "import seaborn as sns"
      ],
      "metadata": {
        "id": "bRKCYCWp2WL_"
      },
      "execution_count": 1,
      "outputs": []
    },
    {
      "cell_type": "markdown",
      "source": [
        "**Importing Dataset**"
      ],
      "metadata": {
        "id": "Ku5VtdxS2g0s"
      }
    },
    {
      "cell_type": "code",
      "source": [
        "stockset = pd.read_csv('https://raw.githubusercontent.com/mwitiderrick/stockprice/master/NSE-TATAGLOBAL.csv')"
      ],
      "metadata": {
        "id": "4PcYK3J72lcz"
      },
      "execution_count": 2,
      "outputs": []
    },
    {
      "cell_type": "markdown",
      "source": [
        "**Displaying first 5 rows in the dataset using head()**"
      ],
      "metadata": {
        "id": "6YR9oZSD2tsD"
      }
    },
    {
      "cell_type": "code",
      "source": [
        "stockset.head()"
      ],
      "metadata": {
        "colab": {
          "base_uri": "https://localhost:8080/",
          "height": 206
        },
        "id": "uBPmg0LS2xXb",
        "outputId": "ec429bdf-b35e-4412-91f5-0e16e580d20e"
      },
      "execution_count": 3,
      "outputs": [
        {
          "output_type": "execute_result",
          "data": {
            "text/html": [
              "\n",
              "  <div id=\"df-2de74bb9-9337-4327-9356-96845faf7164\">\n",
              "    <div class=\"colab-df-container\">\n",
              "      <div>\n",
              "<style scoped>\n",
              "    .dataframe tbody tr th:only-of-type {\n",
              "        vertical-align: middle;\n",
              "    }\n",
              "\n",
              "    .dataframe tbody tr th {\n",
              "        vertical-align: top;\n",
              "    }\n",
              "\n",
              "    .dataframe thead th {\n",
              "        text-align: right;\n",
              "    }\n",
              "</style>\n",
              "<table border=\"1\" class=\"dataframe\">\n",
              "  <thead>\n",
              "    <tr style=\"text-align: right;\">\n",
              "      <th></th>\n",
              "      <th>Date</th>\n",
              "      <th>Open</th>\n",
              "      <th>High</th>\n",
              "      <th>Low</th>\n",
              "      <th>Last</th>\n",
              "      <th>Close</th>\n",
              "      <th>Total Trade Quantity</th>\n",
              "      <th>Turnover (Lacs)</th>\n",
              "    </tr>\n",
              "  </thead>\n",
              "  <tbody>\n",
              "    <tr>\n",
              "      <th>0</th>\n",
              "      <td>2018-09-28</td>\n",
              "      <td>234.05</td>\n",
              "      <td>235.95</td>\n",
              "      <td>230.20</td>\n",
              "      <td>233.50</td>\n",
              "      <td>233.75</td>\n",
              "      <td>3069914</td>\n",
              "      <td>7162.35</td>\n",
              "    </tr>\n",
              "    <tr>\n",
              "      <th>1</th>\n",
              "      <td>2018-09-27</td>\n",
              "      <td>234.55</td>\n",
              "      <td>236.80</td>\n",
              "      <td>231.10</td>\n",
              "      <td>233.80</td>\n",
              "      <td>233.25</td>\n",
              "      <td>5082859</td>\n",
              "      <td>11859.95</td>\n",
              "    </tr>\n",
              "    <tr>\n",
              "      <th>2</th>\n",
              "      <td>2018-09-26</td>\n",
              "      <td>240.00</td>\n",
              "      <td>240.00</td>\n",
              "      <td>232.50</td>\n",
              "      <td>235.00</td>\n",
              "      <td>234.25</td>\n",
              "      <td>2240909</td>\n",
              "      <td>5248.60</td>\n",
              "    </tr>\n",
              "    <tr>\n",
              "      <th>3</th>\n",
              "      <td>2018-09-25</td>\n",
              "      <td>233.30</td>\n",
              "      <td>236.75</td>\n",
              "      <td>232.00</td>\n",
              "      <td>236.25</td>\n",
              "      <td>236.10</td>\n",
              "      <td>2349368</td>\n",
              "      <td>5503.90</td>\n",
              "    </tr>\n",
              "    <tr>\n",
              "      <th>4</th>\n",
              "      <td>2018-09-24</td>\n",
              "      <td>233.55</td>\n",
              "      <td>239.20</td>\n",
              "      <td>230.75</td>\n",
              "      <td>234.00</td>\n",
              "      <td>233.30</td>\n",
              "      <td>3423509</td>\n",
              "      <td>7999.55</td>\n",
              "    </tr>\n",
              "  </tbody>\n",
              "</table>\n",
              "</div>\n",
              "      <button class=\"colab-df-convert\" onclick=\"convertToInteractive('df-2de74bb9-9337-4327-9356-96845faf7164')\"\n",
              "              title=\"Convert this dataframe to an interactive table.\"\n",
              "              style=\"display:none;\">\n",
              "        \n",
              "  <svg xmlns=\"http://www.w3.org/2000/svg\" height=\"24px\"viewBox=\"0 0 24 24\"\n",
              "       width=\"24px\">\n",
              "    <path d=\"M0 0h24v24H0V0z\" fill=\"none\"/>\n",
              "    <path d=\"M18.56 5.44l.94 2.06.94-2.06 2.06-.94-2.06-.94-.94-2.06-.94 2.06-2.06.94zm-11 1L8.5 8.5l.94-2.06 2.06-.94-2.06-.94L8.5 2.5l-.94 2.06-2.06.94zm10 10l.94 2.06.94-2.06 2.06-.94-2.06-.94-.94-2.06-.94 2.06-2.06.94z\"/><path d=\"M17.41 7.96l-1.37-1.37c-.4-.4-.92-.59-1.43-.59-.52 0-1.04.2-1.43.59L10.3 9.45l-7.72 7.72c-.78.78-.78 2.05 0 2.83L4 21.41c.39.39.9.59 1.41.59.51 0 1.02-.2 1.41-.59l7.78-7.78 2.81-2.81c.8-.78.8-2.07 0-2.86zM5.41 20L4 18.59l7.72-7.72 1.47 1.35L5.41 20z\"/>\n",
              "  </svg>\n",
              "      </button>\n",
              "      \n",
              "  <style>\n",
              "    .colab-df-container {\n",
              "      display:flex;\n",
              "      flex-wrap:wrap;\n",
              "      gap: 12px;\n",
              "    }\n",
              "\n",
              "    .colab-df-convert {\n",
              "      background-color: #E8F0FE;\n",
              "      border: none;\n",
              "      border-radius: 50%;\n",
              "      cursor: pointer;\n",
              "      display: none;\n",
              "      fill: #1967D2;\n",
              "      height: 32px;\n",
              "      padding: 0 0 0 0;\n",
              "      width: 32px;\n",
              "    }\n",
              "\n",
              "    .colab-df-convert:hover {\n",
              "      background-color: #E2EBFA;\n",
              "      box-shadow: 0px 1px 2px rgba(60, 64, 67, 0.3), 0px 1px 3px 1px rgba(60, 64, 67, 0.15);\n",
              "      fill: #174EA6;\n",
              "    }\n",
              "\n",
              "    [theme=dark] .colab-df-convert {\n",
              "      background-color: #3B4455;\n",
              "      fill: #D2E3FC;\n",
              "    }\n",
              "\n",
              "    [theme=dark] .colab-df-convert:hover {\n",
              "      background-color: #434B5C;\n",
              "      box-shadow: 0px 1px 3px 1px rgba(0, 0, 0, 0.15);\n",
              "      filter: drop-shadow(0px 1px 2px rgba(0, 0, 0, 0.3));\n",
              "      fill: #FFFFFF;\n",
              "    }\n",
              "  </style>\n",
              "\n",
              "      <script>\n",
              "        const buttonEl =\n",
              "          document.querySelector('#df-2de74bb9-9337-4327-9356-96845faf7164 button.colab-df-convert');\n",
              "        buttonEl.style.display =\n",
              "          google.colab.kernel.accessAllowed ? 'block' : 'none';\n",
              "\n",
              "        async function convertToInteractive(key) {\n",
              "          const element = document.querySelector('#df-2de74bb9-9337-4327-9356-96845faf7164');\n",
              "          const dataTable =\n",
              "            await google.colab.kernel.invokeFunction('convertToInteractive',\n",
              "                                                     [key], {});\n",
              "          if (!dataTable) return;\n",
              "\n",
              "          const docLinkHtml = 'Like what you see? Visit the ' +\n",
              "            '<a target=\"_blank\" href=https://colab.research.google.com/notebooks/data_table.ipynb>data table notebook</a>'\n",
              "            + ' to learn more about interactive tables.';\n",
              "          element.innerHTML = '';\n",
              "          dataTable['output_type'] = 'display_data';\n",
              "          await google.colab.output.renderOutput(dataTable, element);\n",
              "          const docLink = document.createElement('div');\n",
              "          docLink.innerHTML = docLinkHtml;\n",
              "          element.appendChild(docLink);\n",
              "        }\n",
              "      </script>\n",
              "    </div>\n",
              "  </div>\n",
              "  "
            ],
            "text/plain": [
              "         Date    Open    High  ...   Close  Total Trade Quantity  Turnover (Lacs)\n",
              "0  2018-09-28  234.05  235.95  ...  233.75               3069914          7162.35\n",
              "1  2018-09-27  234.55  236.80  ...  233.25               5082859         11859.95\n",
              "2  2018-09-26  240.00  240.00  ...  234.25               2240909          5248.60\n",
              "3  2018-09-25  233.30  236.75  ...  236.10               2349368          5503.90\n",
              "4  2018-09-24  233.55  239.20  ...  233.30               3423509          7999.55\n",
              "\n",
              "[5 rows x 8 columns]"
            ]
          },
          "metadata": {},
          "execution_count": 3
        }
      ]
    },
    {
      "cell_type": "code",
      "source": [
        "stockset.tail()"
      ],
      "metadata": {
        "colab": {
          "base_uri": "https://localhost:8080/",
          "height": 206
        },
        "id": "AAbKpOAO20Zb",
        "outputId": "0442443a-1239-4e56-ce0e-d0bb71b83cd9"
      },
      "execution_count": 4,
      "outputs": [
        {
          "output_type": "execute_result",
          "data": {
            "text/html": [
              "\n",
              "  <div id=\"df-b529bcf7-58c6-4322-8d89-e7bc778054b0\">\n",
              "    <div class=\"colab-df-container\">\n",
              "      <div>\n",
              "<style scoped>\n",
              "    .dataframe tbody tr th:only-of-type {\n",
              "        vertical-align: middle;\n",
              "    }\n",
              "\n",
              "    .dataframe tbody tr th {\n",
              "        vertical-align: top;\n",
              "    }\n",
              "\n",
              "    .dataframe thead th {\n",
              "        text-align: right;\n",
              "    }\n",
              "</style>\n",
              "<table border=\"1\" class=\"dataframe\">\n",
              "  <thead>\n",
              "    <tr style=\"text-align: right;\">\n",
              "      <th></th>\n",
              "      <th>Date</th>\n",
              "      <th>Open</th>\n",
              "      <th>High</th>\n",
              "      <th>Low</th>\n",
              "      <th>Last</th>\n",
              "      <th>Close</th>\n",
              "      <th>Total Trade Quantity</th>\n",
              "      <th>Turnover (Lacs)</th>\n",
              "    </tr>\n",
              "  </thead>\n",
              "  <tbody>\n",
              "    <tr>\n",
              "      <th>2030</th>\n",
              "      <td>2010-07-27</td>\n",
              "      <td>117.6</td>\n",
              "      <td>119.50</td>\n",
              "      <td>112.00</td>\n",
              "      <td>118.80</td>\n",
              "      <td>118.65</td>\n",
              "      <td>586100</td>\n",
              "      <td>694.98</td>\n",
              "    </tr>\n",
              "    <tr>\n",
              "      <th>2031</th>\n",
              "      <td>2010-07-26</td>\n",
              "      <td>120.1</td>\n",
              "      <td>121.00</td>\n",
              "      <td>117.10</td>\n",
              "      <td>117.10</td>\n",
              "      <td>117.60</td>\n",
              "      <td>658440</td>\n",
              "      <td>780.01</td>\n",
              "    </tr>\n",
              "    <tr>\n",
              "      <th>2032</th>\n",
              "      <td>2010-07-23</td>\n",
              "      <td>121.8</td>\n",
              "      <td>121.95</td>\n",
              "      <td>120.25</td>\n",
              "      <td>120.35</td>\n",
              "      <td>120.65</td>\n",
              "      <td>281312</td>\n",
              "      <td>340.31</td>\n",
              "    </tr>\n",
              "    <tr>\n",
              "      <th>2033</th>\n",
              "      <td>2010-07-22</td>\n",
              "      <td>120.3</td>\n",
              "      <td>122.00</td>\n",
              "      <td>120.25</td>\n",
              "      <td>120.75</td>\n",
              "      <td>120.90</td>\n",
              "      <td>293312</td>\n",
              "      <td>355.17</td>\n",
              "    </tr>\n",
              "    <tr>\n",
              "      <th>2034</th>\n",
              "      <td>2010-07-21</td>\n",
              "      <td>122.1</td>\n",
              "      <td>123.00</td>\n",
              "      <td>121.05</td>\n",
              "      <td>121.10</td>\n",
              "      <td>121.55</td>\n",
              "      <td>658666</td>\n",
              "      <td>803.56</td>\n",
              "    </tr>\n",
              "  </tbody>\n",
              "</table>\n",
              "</div>\n",
              "      <button class=\"colab-df-convert\" onclick=\"convertToInteractive('df-b529bcf7-58c6-4322-8d89-e7bc778054b0')\"\n",
              "              title=\"Convert this dataframe to an interactive table.\"\n",
              "              style=\"display:none;\">\n",
              "        \n",
              "  <svg xmlns=\"http://www.w3.org/2000/svg\" height=\"24px\"viewBox=\"0 0 24 24\"\n",
              "       width=\"24px\">\n",
              "    <path d=\"M0 0h24v24H0V0z\" fill=\"none\"/>\n",
              "    <path d=\"M18.56 5.44l.94 2.06.94-2.06 2.06-.94-2.06-.94-.94-2.06-.94 2.06-2.06.94zm-11 1L8.5 8.5l.94-2.06 2.06-.94-2.06-.94L8.5 2.5l-.94 2.06-2.06.94zm10 10l.94 2.06.94-2.06 2.06-.94-2.06-.94-.94-2.06-.94 2.06-2.06.94z\"/><path d=\"M17.41 7.96l-1.37-1.37c-.4-.4-.92-.59-1.43-.59-.52 0-1.04.2-1.43.59L10.3 9.45l-7.72 7.72c-.78.78-.78 2.05 0 2.83L4 21.41c.39.39.9.59 1.41.59.51 0 1.02-.2 1.41-.59l7.78-7.78 2.81-2.81c.8-.78.8-2.07 0-2.86zM5.41 20L4 18.59l7.72-7.72 1.47 1.35L5.41 20z\"/>\n",
              "  </svg>\n",
              "      </button>\n",
              "      \n",
              "  <style>\n",
              "    .colab-df-container {\n",
              "      display:flex;\n",
              "      flex-wrap:wrap;\n",
              "      gap: 12px;\n",
              "    }\n",
              "\n",
              "    .colab-df-convert {\n",
              "      background-color: #E8F0FE;\n",
              "      border: none;\n",
              "      border-radius: 50%;\n",
              "      cursor: pointer;\n",
              "      display: none;\n",
              "      fill: #1967D2;\n",
              "      height: 32px;\n",
              "      padding: 0 0 0 0;\n",
              "      width: 32px;\n",
              "    }\n",
              "\n",
              "    .colab-df-convert:hover {\n",
              "      background-color: #E2EBFA;\n",
              "      box-shadow: 0px 1px 2px rgba(60, 64, 67, 0.3), 0px 1px 3px 1px rgba(60, 64, 67, 0.15);\n",
              "      fill: #174EA6;\n",
              "    }\n",
              "\n",
              "    [theme=dark] .colab-df-convert {\n",
              "      background-color: #3B4455;\n",
              "      fill: #D2E3FC;\n",
              "    }\n",
              "\n",
              "    [theme=dark] .colab-df-convert:hover {\n",
              "      background-color: #434B5C;\n",
              "      box-shadow: 0px 1px 3px 1px rgba(0, 0, 0, 0.15);\n",
              "      filter: drop-shadow(0px 1px 2px rgba(0, 0, 0, 0.3));\n",
              "      fill: #FFFFFF;\n",
              "    }\n",
              "  </style>\n",
              "\n",
              "      <script>\n",
              "        const buttonEl =\n",
              "          document.querySelector('#df-b529bcf7-58c6-4322-8d89-e7bc778054b0 button.colab-df-convert');\n",
              "        buttonEl.style.display =\n",
              "          google.colab.kernel.accessAllowed ? 'block' : 'none';\n",
              "\n",
              "        async function convertToInteractive(key) {\n",
              "          const element = document.querySelector('#df-b529bcf7-58c6-4322-8d89-e7bc778054b0');\n",
              "          const dataTable =\n",
              "            await google.colab.kernel.invokeFunction('convertToInteractive',\n",
              "                                                     [key], {});\n",
              "          if (!dataTable) return;\n",
              "\n",
              "          const docLinkHtml = 'Like what you see? Visit the ' +\n",
              "            '<a target=\"_blank\" href=https://colab.research.google.com/notebooks/data_table.ipynb>data table notebook</a>'\n",
              "            + ' to learn more about interactive tables.';\n",
              "          element.innerHTML = '';\n",
              "          dataTable['output_type'] = 'display_data';\n",
              "          await google.colab.output.renderOutput(dataTable, element);\n",
              "          const docLink = document.createElement('div');\n",
              "          docLink.innerHTML = docLinkHtml;\n",
              "          element.appendChild(docLink);\n",
              "        }\n",
              "      </script>\n",
              "    </div>\n",
              "  </div>\n",
              "  "
            ],
            "text/plain": [
              "            Date   Open    High  ...   Close  Total Trade Quantity  Turnover (Lacs)\n",
              "2030  2010-07-27  117.6  119.50  ...  118.65                586100           694.98\n",
              "2031  2010-07-26  120.1  121.00  ...  117.60                658440           780.01\n",
              "2032  2010-07-23  121.8  121.95  ...  120.65                281312           340.31\n",
              "2033  2010-07-22  120.3  122.00  ...  120.90                293312           355.17\n",
              "2034  2010-07-21  122.1  123.00  ...  121.55                658666           803.56\n",
              "\n",
              "[5 rows x 8 columns]"
            ]
          },
          "metadata": {},
          "execution_count": 4
        }
      ]
    },
    {
      "cell_type": "code",
      "source": [
        "stockset.shape"
      ],
      "metadata": {
        "colab": {
          "base_uri": "https://localhost:8080/"
        },
        "id": "TFNVeCes2-GN",
        "outputId": "c6db046e-fec0-40c8-f431-d71e4fa2acb1"
      },
      "execution_count": 5,
      "outputs": [
        {
          "output_type": "execute_result",
          "data": {
            "text/plain": [
              "(2035, 8)"
            ]
          },
          "metadata": {},
          "execution_count": 5
        }
      ]
    },
    {
      "cell_type": "code",
      "source": [
        "stockset.isnull().sum()"
      ],
      "metadata": {
        "colab": {
          "base_uri": "https://localhost:8080/"
        },
        "id": "S9hMD0rX2-1z",
        "outputId": "5e8ab1da-01af-4bb4-afc0-9162ff15cb5a"
      },
      "execution_count": 6,
      "outputs": [
        {
          "output_type": "execute_result",
          "data": {
            "text/plain": [
              "Date                    0\n",
              "Open                    0\n",
              "High                    0\n",
              "Low                     0\n",
              "Last                    0\n",
              "Close                   0\n",
              "Total Trade Quantity    0\n",
              "Turnover (Lacs)         0\n",
              "dtype: int64"
            ]
          },
          "metadata": {},
          "execution_count": 6
        }
      ]
    },
    {
      "cell_type": "code",
      "source": [
        "dfs=stockset.sort_values(by=[\"Date\"])"
      ],
      "metadata": {
        "id": "GkSkpu7r3CzL"
      },
      "execution_count": 7,
      "outputs": []
    },
    {
      "cell_type": "code",
      "source": [
        "dfs.reset_index(inplace=True)"
      ],
      "metadata": {
        "id": "VsbZd1Ue3FAL"
      },
      "execution_count": 8,
      "outputs": []
    },
    {
      "cell_type": "code",
      "source": [
        "dfs.describe()"
      ],
      "metadata": {
        "colab": {
          "base_uri": "https://localhost:8080/",
          "height": 300
        },
        "id": "9Wdo6vVx3NEU",
        "outputId": "48d7b608-a8fb-4cd4-edf9-fa2263a2ae6e"
      },
      "execution_count": 9,
      "outputs": [
        {
          "output_type": "execute_result",
          "data": {
            "text/html": [
              "\n",
              "  <div id=\"df-46043d20-600b-489d-936a-2cf5a9fff1b2\">\n",
              "    <div class=\"colab-df-container\">\n",
              "      <div>\n",
              "<style scoped>\n",
              "    .dataframe tbody tr th:only-of-type {\n",
              "        vertical-align: middle;\n",
              "    }\n",
              "\n",
              "    .dataframe tbody tr th {\n",
              "        vertical-align: top;\n",
              "    }\n",
              "\n",
              "    .dataframe thead th {\n",
              "        text-align: right;\n",
              "    }\n",
              "</style>\n",
              "<table border=\"1\" class=\"dataframe\">\n",
              "  <thead>\n",
              "    <tr style=\"text-align: right;\">\n",
              "      <th></th>\n",
              "      <th>index</th>\n",
              "      <th>Open</th>\n",
              "      <th>High</th>\n",
              "      <th>Low</th>\n",
              "      <th>Last</th>\n",
              "      <th>Close</th>\n",
              "      <th>Total Trade Quantity</th>\n",
              "      <th>Turnover (Lacs)</th>\n",
              "    </tr>\n",
              "  </thead>\n",
              "  <tbody>\n",
              "    <tr>\n",
              "      <th>count</th>\n",
              "      <td>2035.000000</td>\n",
              "      <td>2035.000000</td>\n",
              "      <td>2035.000000</td>\n",
              "      <td>2035.000000</td>\n",
              "      <td>2035.000000</td>\n",
              "      <td>2035.00000</td>\n",
              "      <td>2.035000e+03</td>\n",
              "      <td>2035.000000</td>\n",
              "    </tr>\n",
              "    <tr>\n",
              "      <th>mean</th>\n",
              "      <td>1017.000000</td>\n",
              "      <td>149.713735</td>\n",
              "      <td>151.992826</td>\n",
              "      <td>147.293931</td>\n",
              "      <td>149.474251</td>\n",
              "      <td>149.45027</td>\n",
              "      <td>2.335681e+06</td>\n",
              "      <td>3899.980565</td>\n",
              "    </tr>\n",
              "    <tr>\n",
              "      <th>std</th>\n",
              "      <td>587.598219</td>\n",
              "      <td>48.664509</td>\n",
              "      <td>49.413109</td>\n",
              "      <td>47.931958</td>\n",
              "      <td>48.732570</td>\n",
              "      <td>48.71204</td>\n",
              "      <td>2.091778e+06</td>\n",
              "      <td>4570.767877</td>\n",
              "    </tr>\n",
              "    <tr>\n",
              "      <th>min</th>\n",
              "      <td>0.000000</td>\n",
              "      <td>81.100000</td>\n",
              "      <td>82.800000</td>\n",
              "      <td>80.000000</td>\n",
              "      <td>81.000000</td>\n",
              "      <td>80.95000</td>\n",
              "      <td>3.961000e+04</td>\n",
              "      <td>37.040000</td>\n",
              "    </tr>\n",
              "    <tr>\n",
              "      <th>25%</th>\n",
              "      <td>508.500000</td>\n",
              "      <td>120.025000</td>\n",
              "      <td>122.100000</td>\n",
              "      <td>118.300000</td>\n",
              "      <td>120.075000</td>\n",
              "      <td>120.05000</td>\n",
              "      <td>1.146444e+06</td>\n",
              "      <td>1427.460000</td>\n",
              "    </tr>\n",
              "    <tr>\n",
              "      <th>50%</th>\n",
              "      <td>1017.000000</td>\n",
              "      <td>141.500000</td>\n",
              "      <td>143.400000</td>\n",
              "      <td>139.600000</td>\n",
              "      <td>141.100000</td>\n",
              "      <td>141.25000</td>\n",
              "      <td>1.783456e+06</td>\n",
              "      <td>2512.030000</td>\n",
              "    </tr>\n",
              "    <tr>\n",
              "      <th>75%</th>\n",
              "      <td>1525.500000</td>\n",
              "      <td>157.175000</td>\n",
              "      <td>159.400000</td>\n",
              "      <td>155.150000</td>\n",
              "      <td>156.925000</td>\n",
              "      <td>156.90000</td>\n",
              "      <td>2.813594e+06</td>\n",
              "      <td>4539.015000</td>\n",
              "    </tr>\n",
              "    <tr>\n",
              "      <th>max</th>\n",
              "      <td>2034.000000</td>\n",
              "      <td>327.700000</td>\n",
              "      <td>328.750000</td>\n",
              "      <td>321.650000</td>\n",
              "      <td>325.950000</td>\n",
              "      <td>325.75000</td>\n",
              "      <td>2.919102e+07</td>\n",
              "      <td>55755.080000</td>\n",
              "    </tr>\n",
              "  </tbody>\n",
              "</table>\n",
              "</div>\n",
              "      <button class=\"colab-df-convert\" onclick=\"convertToInteractive('df-46043d20-600b-489d-936a-2cf5a9fff1b2')\"\n",
              "              title=\"Convert this dataframe to an interactive table.\"\n",
              "              style=\"display:none;\">\n",
              "        \n",
              "  <svg xmlns=\"http://www.w3.org/2000/svg\" height=\"24px\"viewBox=\"0 0 24 24\"\n",
              "       width=\"24px\">\n",
              "    <path d=\"M0 0h24v24H0V0z\" fill=\"none\"/>\n",
              "    <path d=\"M18.56 5.44l.94 2.06.94-2.06 2.06-.94-2.06-.94-.94-2.06-.94 2.06-2.06.94zm-11 1L8.5 8.5l.94-2.06 2.06-.94-2.06-.94L8.5 2.5l-.94 2.06-2.06.94zm10 10l.94 2.06.94-2.06 2.06-.94-2.06-.94-.94-2.06-.94 2.06-2.06.94z\"/><path d=\"M17.41 7.96l-1.37-1.37c-.4-.4-.92-.59-1.43-.59-.52 0-1.04.2-1.43.59L10.3 9.45l-7.72 7.72c-.78.78-.78 2.05 0 2.83L4 21.41c.39.39.9.59 1.41.59.51 0 1.02-.2 1.41-.59l7.78-7.78 2.81-2.81c.8-.78.8-2.07 0-2.86zM5.41 20L4 18.59l7.72-7.72 1.47 1.35L5.41 20z\"/>\n",
              "  </svg>\n",
              "      </button>\n",
              "      \n",
              "  <style>\n",
              "    .colab-df-container {\n",
              "      display:flex;\n",
              "      flex-wrap:wrap;\n",
              "      gap: 12px;\n",
              "    }\n",
              "\n",
              "    .colab-df-convert {\n",
              "      background-color: #E8F0FE;\n",
              "      border: none;\n",
              "      border-radius: 50%;\n",
              "      cursor: pointer;\n",
              "      display: none;\n",
              "      fill: #1967D2;\n",
              "      height: 32px;\n",
              "      padding: 0 0 0 0;\n",
              "      width: 32px;\n",
              "    }\n",
              "\n",
              "    .colab-df-convert:hover {\n",
              "      background-color: #E2EBFA;\n",
              "      box-shadow: 0px 1px 2px rgba(60, 64, 67, 0.3), 0px 1px 3px 1px rgba(60, 64, 67, 0.15);\n",
              "      fill: #174EA6;\n",
              "    }\n",
              "\n",
              "    [theme=dark] .colab-df-convert {\n",
              "      background-color: #3B4455;\n",
              "      fill: #D2E3FC;\n",
              "    }\n",
              "\n",
              "    [theme=dark] .colab-df-convert:hover {\n",
              "      background-color: #434B5C;\n",
              "      box-shadow: 0px 1px 3px 1px rgba(0, 0, 0, 0.15);\n",
              "      filter: drop-shadow(0px 1px 2px rgba(0, 0, 0, 0.3));\n",
              "      fill: #FFFFFF;\n",
              "    }\n",
              "  </style>\n",
              "\n",
              "      <script>\n",
              "        const buttonEl =\n",
              "          document.querySelector('#df-46043d20-600b-489d-936a-2cf5a9fff1b2 button.colab-df-convert');\n",
              "        buttonEl.style.display =\n",
              "          google.colab.kernel.accessAllowed ? 'block' : 'none';\n",
              "\n",
              "        async function convertToInteractive(key) {\n",
              "          const element = document.querySelector('#df-46043d20-600b-489d-936a-2cf5a9fff1b2');\n",
              "          const dataTable =\n",
              "            await google.colab.kernel.invokeFunction('convertToInteractive',\n",
              "                                                     [key], {});\n",
              "          if (!dataTable) return;\n",
              "\n",
              "          const docLinkHtml = 'Like what you see? Visit the ' +\n",
              "            '<a target=\"_blank\" href=https://colab.research.google.com/notebooks/data_table.ipynb>data table notebook</a>'\n",
              "            + ' to learn more about interactive tables.';\n",
              "          element.innerHTML = '';\n",
              "          dataTable['output_type'] = 'display_data';\n",
              "          await google.colab.output.renderOutput(dataTable, element);\n",
              "          const docLink = document.createElement('div');\n",
              "          docLink.innerHTML = docLinkHtml;\n",
              "          element.appendChild(docLink);\n",
              "        }\n",
              "      </script>\n",
              "    </div>\n",
              "  </div>\n",
              "  "
            ],
            "text/plain": [
              "             index         Open  ...  Total Trade Quantity  Turnover (Lacs)\n",
              "count  2035.000000  2035.000000  ...          2.035000e+03      2035.000000\n",
              "mean   1017.000000   149.713735  ...          2.335681e+06      3899.980565\n",
              "std     587.598219    48.664509  ...          2.091778e+06      4570.767877\n",
              "min       0.000000    81.100000  ...          3.961000e+04        37.040000\n",
              "25%     508.500000   120.025000  ...          1.146444e+06      1427.460000\n",
              "50%    1017.000000   141.500000  ...          1.783456e+06      2512.030000\n",
              "75%    1525.500000   157.175000  ...          2.813594e+06      4539.015000\n",
              "max    2034.000000   327.700000  ...          2.919102e+07     55755.080000\n",
              "\n",
              "[8 rows x 8 columns]"
            ]
          },
          "metadata": {},
          "execution_count": 9
        }
      ]
    },
    {
      "cell_type": "code",
      "source": [
        "dfs.info()"
      ],
      "metadata": {
        "colab": {
          "base_uri": "https://localhost:8080/"
        },
        "id": "hB9tFHZb3Pj5",
        "outputId": "8f1c5712-5e25-4119-9feb-0d04a8d3cc22"
      },
      "execution_count": 10,
      "outputs": [
        {
          "output_type": "stream",
          "name": "stdout",
          "text": [
            "<class 'pandas.core.frame.DataFrame'>\n",
            "RangeIndex: 2035 entries, 0 to 2034\n",
            "Data columns (total 9 columns):\n",
            " #   Column                Non-Null Count  Dtype  \n",
            "---  ------                --------------  -----  \n",
            " 0   index                 2035 non-null   int64  \n",
            " 1   Date                  2035 non-null   object \n",
            " 2   Open                  2035 non-null   float64\n",
            " 3   High                  2035 non-null   float64\n",
            " 4   Low                   2035 non-null   float64\n",
            " 5   Last                  2035 non-null   float64\n",
            " 6   Close                 2035 non-null   float64\n",
            " 7   Total Trade Quantity  2035 non-null   int64  \n",
            " 8   Turnover (Lacs)       2035 non-null   float64\n",
            "dtypes: float64(6), int64(2), object(1)\n",
            "memory usage: 143.2+ KB\n"
          ]
        }
      ]
    },
    {
      "cell_type": "markdown",
      "source": [
        "**DATA VISUALIZATION**"
      ],
      "metadata": {
        "id": "n6xGIYgg3cv0"
      }
    },
    {
      "cell_type": "code",
      "source": [
        "plt.figure(figsize=(7,6))\n",
        "plt.plot(dfs[\"Close\"])"
      ],
      "metadata": {
        "colab": {
          "base_uri": "https://localhost:8080/",
          "height": 391
        },
        "id": "wiAihPCF3Pqr",
        "outputId": "fef9509f-bdc6-437f-c66f-33180b8875ca"
      },
      "execution_count": 11,
      "outputs": [
        {
          "output_type": "execute_result",
          "data": {
            "text/plain": [
              "[<matplotlib.lines.Line2D at 0x7f98fd96fd90>]"
            ]
          },
          "metadata": {},
          "execution_count": 11
        },
        {
          "output_type": "display_data",
          "data": {
            "image/png": "[encoded data removed]",
            "text/plain": [
              "<Figure size 504x432 with 1 Axes>"
            ]
          },
          "metadata": {
            "needs_background": "light"
          }
        }
      ]
    },
    {
      "cell_type": "code",
      "source": [
        "dfclose=dfs[\"Close\"]\n",
        "dfclose"
      ],
      "metadata": {
        "colab": {
          "base_uri": "https://localhost:8080/"
        },
        "id": "ZYZ46mcR3zuc",
        "outputId": "f7ed1d0a-c29a-498a-87ae-e6af1df0d0b8"
      },
      "execution_count": 12,
      "outputs": [
        {
          "output_type": "execute_result",
          "data": {
            "text/plain": [
              "0       121.55\n",
              "1       120.90\n",
              "2       120.65\n",
              "3       117.60\n",
              "4       118.65\n",
              "         ...  \n",
              "2030    233.30\n",
              "2031    236.10\n",
              "2032    234.25\n",
              "2033    233.25\n",
              "2034    233.75\n",
              "Name: Close, Length: 2035, dtype: float64"
            ]
          },
          "metadata": {},
          "execution_count": 12
        }
      ]
    },
    {
      "cell_type": "code",
      "source": [
        "from sklearn.preprocessing import MinMaxScaler"
      ],
      "metadata": {
        "id": "CzkS8wbL33Ks"
      },
      "execution_count": 13,
      "outputs": []
    },
    {
      "cell_type": "code",
      "source": [
        "scaler=MinMaxScaler(feature_range=(0,1))\n",
        "scaled_data= scaler.fit_transform(np.array(dfclose).reshape(-1,1))\n",
        "scaled_data"
      ],
      "metadata": {
        "colab": {
          "base_uri": "https://localhost:8080/"
        },
        "id": "lLzcNokm36K9",
        "outputId": "b73facab-2b92-4cc2-b49e-7ca6a7bb98a7"
      },
      "execution_count": 14,
      "outputs": [
        {
          "output_type": "execute_result",
          "data": {
            "text/plain": [
              "array([[0.16584967],\n",
              "       [0.16319444],\n",
              "       [0.1621732 ],\n",
              "       ...,\n",
              "       [0.62622549],\n",
              "       [0.62214052],\n",
              "       [0.62418301]])"
            ]
          },
          "metadata": {},
          "execution_count": 14
        }
      ]
    },
    {
      "cell_type": "markdown",
      "source": [
        "**CREATING TRAINING AND TESTING DATA**"
      ],
      "metadata": {
        "id": "8mKK-wbv4Az1"
      }
    },
    {
      "cell_type": "code",
      "source": [
        "training_size = int(len(scaled_data)*0.70)\n",
        "test_size = len(scaled_data) - training_size\n",
        "\n",
        "\n",
        "train_data = scaled_data[0:training_size,:]\n",
        "test_data = scaled_data[training_size:len(scaled_data), :1]"
      ],
      "metadata": {
        "id": "eOdN3xVa4C_t"
      },
      "execution_count": 15,
      "outputs": []
    },
    {
      "cell_type": "code",
      "source": [
        "training_size,train_data"
      ],
      "metadata": {
        "colab": {
          "base_uri": "https://localhost:8080/"
        },
        "id": "G235tmaB4FpX",
        "outputId": "f4a34fd7-62b9-4c85-f60a-6f8161856417"
      },
      "execution_count": 16,
      "outputs": [
        {
          "output_type": "execute_result",
          "data": {
            "text/plain": [
              "(1424, array([[0.16584967],\n",
              "        [0.16319444],\n",
              "        [0.1621732 ],\n",
              "        ...,\n",
              "        [0.15012255],\n",
              "        [0.15747549],\n",
              "        [0.15277778]]))"
            ]
          },
          "metadata": {},
          "execution_count": 16
        }
      ]
    },
    {
      "cell_type": "code",
      "source": [
        "test_size,test_data"
      ],
      "metadata": {
        "colab": {
          "base_uri": "https://localhost:8080/"
        },
        "id": "UptKlzZQ4Jq1",
        "outputId": "5dc087a8-1651-4814-f694-2f71b86f58bf"
      },
      "execution_count": 17,
      "outputs": [
        {
          "output_type": "execute_result",
          "data": {
            "text/plain": [
              "(611, array([[0.1621732 ],\n",
              "        [0.15951797],\n",
              "        [0.16707516],\n",
              "        [0.15992647],\n",
              "        [0.16053922],\n",
              "        [0.16441993],\n",
              "        [0.16687092],\n",
              "        [0.1693219 ],\n",
              "        [0.16074346],\n",
              "        [0.15972222],\n",
              "        [0.16401144],\n",
              "        [0.15727124],\n",
              "        [0.14705882],\n",
              "        [0.14460784],\n",
              "        [0.15175654],\n",
              "        [0.15441176],\n",
              "        [0.15216503],\n",
              "        [0.14848856],\n",
              "        [0.15522876],\n",
              "        [0.15767974],\n",
              "        [0.1621732 ],\n",
              "        [0.16094771],\n",
              "        [0.16339869],\n",
              "        [0.15931373],\n",
              "        [0.15972222],\n",
              "        [0.16115196],\n",
              "        [0.16666667],\n",
              "        [0.15747549],\n",
              "        [0.15379902],\n",
              "        [0.14848856],\n",
              "        [0.15114379],\n",
              "        [0.1503268 ],\n",
              "        [0.15155229],\n",
              "        [0.15645425],\n",
              "        [0.16033497],\n",
              "        [0.1566585 ],\n",
              "        [0.15686275],\n",
              "        [0.17749183],\n",
              "        [0.17973856],\n",
              "        [0.1744281 ],\n",
              "        [0.19281046],\n",
              "        [0.18607026],\n",
              "        [0.18811275],\n",
              "        [0.18443627],\n",
              "        [0.18280229],\n",
              "        [0.18464052],\n",
              "        [0.18178105],\n",
              "        [0.18913399],\n",
              "        [0.1870915 ],\n",
              "        [0.17687908],\n",
              "        [0.18382353],\n",
              "        [0.19158497],\n",
              "        [0.19914216],\n",
              "        [0.20526961],\n",
              "        [0.22038399],\n",
              "        [0.21711601],\n",
              "        [0.21629902],\n",
              "        [0.21854575],\n",
              "        [0.21098856],\n",
              "        [0.21303105],\n",
              "        [0.21221405],\n",
              "        [0.20915033],\n",
              "        [0.21098856],\n",
              "        [0.21098856],\n",
              "        [0.2001634 ],\n",
              "        [0.2005719 ],\n",
              "        [0.21609477],\n",
              "        [0.20772059],\n",
              "        [0.2064951 ],\n",
              "        [0.21446078],\n",
              "        [0.20506536],\n",
              "        [0.23080065],\n",
              "        [0.24183007],\n",
              "        [0.25      ],\n",
              "        [0.24530229],\n",
              "        [0.23468137],\n",
              "        [0.22385621],\n",
              "        [0.23427288],\n",
              "        [0.23754085],\n",
              "        [0.25306373],\n",
              "        [0.25449346],\n",
              "        [0.23202614],\n",
              "        [0.23018791],\n",
              "        [0.22875817],\n",
              "        [0.23325163],\n",
              "        [0.23161765],\n",
              "        [0.23651961],\n",
              "        [0.24632353],\n",
              "        [0.23468137],\n",
              "        [0.23958333],\n",
              "        [0.24223856],\n",
              "        [0.24305556],\n",
              "        [0.24080882],\n",
              "        [0.23713235],\n",
              "        [0.24203431],\n",
              "        [0.24223856],\n",
              "        [0.24571078],\n",
              "        [0.24775327],\n",
              "        [0.24836601],\n",
              "        [0.25020425],\n",
              "        [0.25020425],\n",
              "        [0.23999183],\n",
              "        [0.22201797],\n",
              "        [0.23080065],\n",
              "        [0.22896242],\n",
              "        [0.24060458],\n",
              "        [0.24080882],\n",
              "        [0.23304739],\n",
              "        [0.23325163],\n",
              "        [0.23672386],\n",
              "        [0.25102124],\n",
              "        [0.24387255],\n",
              "        [0.25980392],\n",
              "        [0.26879085],\n",
              "        [0.22896242],\n",
              "        [0.23958333],\n",
              "        [0.25081699],\n",
              "        [0.24857026],\n",
              "        [0.29554739],\n",
              "        [0.28574346],\n",
              "        [0.2871732 ],\n",
              "        [0.28880719],\n",
              "        [0.27328431],\n",
              "        [0.29513889],\n",
              "        [0.28308824],\n",
              "        [0.28982843],\n",
              "        [0.30085784],\n",
              "        [0.29166667],\n",
              "        [0.29227941],\n",
              "        [0.29861111],\n",
              "        [0.28206699],\n",
              "        [0.26327614],\n",
              "        [0.23202614],\n",
              "        [0.24101307],\n",
              "        [0.23876634],\n",
              "        [0.23549837],\n",
              "        [0.22058824],\n",
              "        [0.20588235],\n",
              "        [0.1875    ],\n",
              "        [0.19219771],\n",
              "        [0.18995098],\n",
              "        [0.16727941],\n",
              "        [0.1815768 ],\n",
              "        [0.15400327],\n",
              "        [0.14726307],\n",
              "        [0.16482843],\n",
              "        [0.15379902],\n",
              "        [0.15992647],\n",
              "        [0.14174837],\n",
              "        [0.14848856],\n",
              "        [0.1499183 ],\n",
              "        [0.13950163],\n",
              "        [0.15339052],\n",
              "        [0.16339869],\n",
              "        [0.16748366],\n",
              "        [0.1752451 ],\n",
              "        [0.16727941],\n",
              "        [0.16584967],\n",
              "        [0.1744281 ],\n",
              "        [0.17340686],\n",
              "        [0.1689134 ],\n",
              "        [0.1752451 ],\n",
              "        [0.17544935],\n",
              "        [0.17320261],\n",
              "        [0.17320261],\n",
              "        [0.17075163],\n",
              "        [0.17769608],\n",
              "        [0.17708333],\n",
              "        [0.17708333],\n",
              "        [0.16462418],\n",
              "        [0.16605392],\n",
              "        [0.15706699],\n",
              "        [0.15482026],\n",
              "        [0.14726307],\n",
              "        [0.16176471],\n",
              "        [0.15788399],\n",
              "        [0.16401144],\n",
              "        [0.16768791],\n",
              "        [0.17401961],\n",
              "        [0.17769608],\n",
              "        [0.17769608],\n",
              "        [0.1807598 ],\n",
              "        [0.17851307],\n",
              "        [0.17892157],\n",
              "        [0.17769608],\n",
              "        [0.19035948],\n",
              "        [0.18055556],\n",
              "        [0.19362745],\n",
              "        [0.19076797],\n",
              "        [0.19056373],\n",
              "        [0.19485294],\n",
              "        [0.20241013],\n",
              "        [0.18566176],\n",
              "        [0.19178922],\n",
              "        [0.19403595],\n",
              "        [0.19362745],\n",
              "        [0.19709967],\n",
              "        [0.20220588],\n",
              "        [0.19566993],\n",
              "        [0.20077614],\n",
              "        [0.23161765],\n",
              "        [0.24877451],\n",
              "        [0.25245098],\n",
              "        [0.24795752],\n",
              "        [0.26633987],\n",
              "        [0.25714869],\n",
              "        [0.25735294],\n",
              "        [0.24918301],\n",
              "        [0.24611928],\n",
              "        [0.23611111],\n",
              "        [0.24162582],\n",
              "        [0.24183007],\n",
              "        [0.24775327],\n",
              "        [0.24775327],\n",
              "        [0.24121732],\n",
              "        [0.23815359],\n",
              "        [0.23672386],\n",
              "        [0.23325163],\n",
              "        [0.2559232 ],\n",
              "        [0.24571078],\n",
              "        [0.25490196],\n",
              "        [0.25449346],\n",
              "        [0.25245098],\n",
              "        [0.24693627],\n",
              "        [0.24448529],\n",
              "        [0.22937092],\n",
              "        [0.23917484],\n",
              "        [0.24489379],\n",
              "        [0.26041667],\n",
              "        [0.26082516],\n",
              "        [0.26756536],\n",
              "        [0.26531863],\n",
              "        [0.25388072],\n",
              "        [0.28860294],\n",
              "        [0.28676471],\n",
              "        [0.27634804],\n",
              "        [0.28431373],\n",
              "        [0.28451797],\n",
              "        [0.28267974],\n",
              "        [0.28431373],\n",
              "        [0.28982843],\n",
              "        [0.29289216],\n",
              "        [0.29452614],\n",
              "        [0.28451797],\n",
              "        [0.28594771],\n",
              "        [0.29595588],\n",
              "        [0.28921569],\n",
              "        [0.28410948],\n",
              "        [0.27982026],\n",
              "        [0.2745098 ],\n",
              "        [0.28288399],\n",
              "        [0.29084967],\n",
              "        [0.28737745],\n",
              "        [0.29003268],\n",
              "        [0.28901144],\n",
              "        [0.29738562],\n",
              "        [0.29064542],\n",
              "        [0.29473039],\n",
              "        [0.31352124],\n",
              "        [0.30739379],\n",
              "        [0.30392157],\n",
              "        [0.29146242],\n",
              "        [0.29268791],\n",
              "        [0.29861111],\n",
              "        [0.30187908],\n",
              "        [0.29840686],\n",
              "        [0.29289216],\n",
              "        [0.30085784],\n",
              "        [0.3002451 ],\n",
              "        [0.29370915],\n",
              "        [0.27185458],\n",
              "        [0.28002451],\n",
              "        [0.27308007],\n",
              "        [0.26062092],\n",
              "        [0.24816176],\n",
              "        [0.25367647],\n",
              "        [0.26940359],\n",
              "        [0.26327614],\n",
              "        [0.26388889],\n",
              "        [0.27961601],\n",
              "        [0.29187092],\n",
              "        [0.30187908],\n",
              "        [0.30228758],\n",
              "        [0.2943219 ],\n",
              "        [0.30473856],\n",
              "        [0.30085784],\n",
              "        [0.30004085],\n",
              "        [0.29064542],\n",
              "        [0.30841503],\n",
              "        [0.31658497],\n",
              "        [0.3192402 ],\n",
              "        [0.31556373],\n",
              "        [0.30821078],\n",
              "        [0.31004902],\n",
              "        [0.30984477],\n",
              "        [0.30147059],\n",
              "        [0.28676471],\n",
              "        [0.27124183],\n",
              "        [0.27859477],\n",
              "        [0.27593954],\n",
              "        [0.28472222],\n",
              "        [0.28860294],\n",
              "        [0.28227124],\n",
              "        [0.30718954],\n",
              "        [0.29575163],\n",
              "        [0.31372549],\n",
              "        [0.3496732 ],\n",
              "        [0.36172386],\n",
              "        [0.37908497],\n",
              "        [0.38582516],\n",
              "        [0.3809232 ],\n",
              "        [0.39236111],\n",
              "        [0.37908497],\n",
              "        [0.38480392],\n",
              "        [0.3690768 ],\n",
              "        [0.37275327],\n",
              "        [0.36376634],\n",
              "        [0.36846405],\n",
              "        [0.37275327],\n",
              "        [0.35723039],\n",
              "        [0.36029412],\n",
              "        [0.3619281 ],\n",
              "        [0.35355392],\n",
              "        [0.34375   ],\n",
              "        [0.3500817 ],\n",
              "        [0.34926471],\n",
              "        [0.36560458],\n",
              "        [0.34742647],\n",
              "        [0.3314951 ],\n",
              "        [0.3065768 ],\n",
              "        [0.34007353],\n",
              "        [0.3995098 ],\n",
              "        [0.46119281],\n",
              "        [0.44791667],\n",
              "        [0.46343954],\n",
              "        [0.47058824],\n",
              "        [0.44485294],\n",
              "        [0.47222222],\n",
              "        [0.4628268 ],\n",
              "        [0.45894608],\n",
              "        [0.44689542],\n",
              "        [0.47426471],\n",
              "        [0.47814542],\n",
              "        [0.47651144],\n",
              "        [0.45894608],\n",
              "        [0.47283497],\n",
              "        [0.51062092],\n",
              "        [0.50980392],\n",
              "        [0.51450163],\n",
              "        [0.52410131],\n",
              "        [0.53553922],\n",
              "        [0.51613562],\n",
              "        [0.53553922],\n",
              "        [0.52941176],\n",
              "        [0.54064542],\n",
              "        [0.55249183],\n",
              "        [0.54227941],\n",
              "        [0.53615196],\n",
              "        [0.49101307],\n",
              "        [0.47263072],\n",
              "        [0.50531046],\n",
              "        [0.48059641],\n",
              "        [0.49918301],\n",
              "        [0.51000817],\n",
              "        [0.5126634 ],\n",
              "        [0.50653595],\n",
              "        [0.5249183 ],\n",
              "        [0.52553105],\n",
              "        [0.52022059],\n",
              "        [0.52083333],\n",
              "        [0.52471405],\n",
              "        [0.53533497],\n",
              "        [0.52818627],\n",
              "        [0.52553105],\n",
              "        [0.52839052],\n",
              "        [0.51409314],\n",
              "        [0.50510621],\n",
              "        [0.49897876],\n",
              "        [0.52573529],\n",
              "        [0.50796569],\n",
              "        [0.52634804],\n",
              "        [0.57005719],\n",
              "        [0.59579248],\n",
              "        [0.59640523],\n",
              "        [0.59987745],\n",
              "        [0.59395425],\n",
              "        [0.58966503],\n",
              "        [0.62806373],\n",
              "        [0.58843954],\n",
              "        [0.58639706],\n",
              "        [0.65155229],\n",
              "        [0.63398693],\n",
              "        [0.62683824],\n",
              "        [0.67708333],\n",
              "        [0.6942402 ],\n",
              "        [0.69852941],\n",
              "        [0.7310049 ],\n",
              "        [0.79227941],\n",
              "        [0.78513072],\n",
              "        [0.78880719],\n",
              "        [0.79187092],\n",
              "        [0.80780229],\n",
              "        [0.80269608],\n",
              "        [0.84477124],\n",
              "        [0.81392974],\n",
              "        [0.84211601],\n",
              "        [0.82761438],\n",
              "        [0.80923203],\n",
              "        [0.8129085 ],\n",
              "        [0.79248366],\n",
              "        [0.82945261],\n",
              "        [0.84763072],\n",
              "        [0.8880719 ],\n",
              "        [0.84497549],\n",
              "        [0.83129085],\n",
              "        [0.8306781 ],\n",
              "        [0.84109477],\n",
              "        [0.85743464],\n",
              "        [0.89746732],\n",
              "        [0.89828431],\n",
              "        [0.89542484],\n",
              "        [0.90604575],\n",
              "        [0.91911765],\n",
              "        [0.91748366],\n",
              "        [0.92177288],\n",
              "        [0.96180556],\n",
              "        [0.94750817],\n",
              "        [0.94035948],\n",
              "        [0.94056373],\n",
              "        [0.94485294],\n",
              "        [0.94771242],\n",
              "        [0.96670752],\n",
              "        [0.95731209],\n",
              "        [0.95241013],\n",
              "        [0.94914216],\n",
              "        [1.        ],\n",
              "        [0.98876634],\n",
              "        [0.96180556],\n",
              "        [0.9501634 ],\n",
              "        [0.91707516],\n",
              "        [0.92892157],\n",
              "        [0.93096405],\n",
              "        [0.92422386],\n",
              "        [0.9121732 ],\n",
              "        [0.9121732 ],\n",
              "        [0.90216503],\n",
              "        [0.91115196],\n",
              "        [0.85661765],\n",
              "        [0.84722222],\n",
              "        [0.79207516],\n",
              "        [0.78492647],\n",
              "        [0.75878268],\n",
              "        [0.81372549],\n",
              "        [0.81495098],\n",
              "        [0.80596405],\n",
              "        [0.83394608],\n",
              "        [0.82107843],\n",
              "        [0.80923203],\n",
              "        [0.79513889],\n",
              "        [0.76388889],\n",
              "        [0.74305556],\n",
              "        [0.75837418],\n",
              "        [0.74019608],\n",
              "        [0.77512255],\n",
              "        [0.78656046],\n",
              "        [0.79268791],\n",
              "        [0.79473039],\n",
              "        [0.79207516],\n",
              "        [0.79534314],\n",
              "        [0.78921569],\n",
              "        [0.76776961],\n",
              "        [0.78615196],\n",
              "        [0.76552288],\n",
              "        [0.79697712],\n",
              "        [0.8057598 ],\n",
              "        [0.80698529],\n",
              "        [0.81147876],\n",
              "        [0.78206699],\n",
              "        [0.73386438],\n",
              "        [0.73978758],\n",
              "        [0.74448529],\n",
              "        [0.72671569],\n",
              "        [0.72283497],\n",
              "        [0.74040033],\n",
              "        [0.74693627],\n",
              "        [0.72630719],\n",
              "        [0.80065359],\n",
              "        [0.79187092],\n",
              "        [0.77328431],\n",
              "        [0.78451797],\n",
              "        [0.78329248],\n",
              "        [0.80412582],\n",
              "        [0.79473039],\n",
              "        [0.7879902 ],\n",
              "        [0.7879902 ],\n",
              "        [0.79473039],\n",
              "        [0.81168301],\n",
              "        [0.81699346],\n",
              "        [0.82986111],\n",
              "        [0.83843954],\n",
              "        [0.83884804],\n",
              "        [0.82781863],\n",
              "        [0.82598039],\n",
              "        [0.85028595],\n",
              "        [0.85886438],\n",
              "        [0.86254085],\n",
              "        [0.88480392],\n",
              "        [0.86519608],\n",
              "        [0.84027778],\n",
              "        [0.84497549],\n",
              "        [0.87111928],\n",
              "        [0.85273693],\n",
              "        [0.86213235],\n",
              "        [0.83455882],\n",
              "        [0.84375   ],\n",
              "        [0.71466503],\n",
              "        [0.66053922],\n",
              "        [0.65420752],\n",
              "        [0.68035131],\n",
              "        [0.6689134 ],\n",
              "        [0.66421569],\n",
              "        [0.67892157],\n",
              "        [0.69138072],\n",
              "        [0.70894608],\n",
              "        [0.72263072],\n",
              "        [0.73406863],\n",
              "        [0.72120098],\n",
              "        [0.74979575],\n",
              "        [0.7689951 ],\n",
              "        [0.74468954],\n",
              "        [0.7120098 ],\n",
              "        [0.74673203],\n",
              "        [0.75490196],\n",
              "        [0.76041667],\n",
              "        [0.75980392],\n",
              "        [0.74652778],\n",
              "        [0.76245915],\n",
              "        [0.77062908],\n",
              "        [0.80412582],\n",
              "        [0.78104575],\n",
              "        [0.79411765],\n",
              "        [0.76021242],\n",
              "        [0.73488562],\n",
              "        [0.72406046],\n",
              "        [0.73999183],\n",
              "        [0.74979575],\n",
              "        [0.76143791],\n",
              "        [0.75428922],\n",
              "        [0.74754902],\n",
              "        [0.76960784],\n",
              "        [0.7495915 ],\n",
              "        [0.81719771],\n",
              "        [0.80208333],\n",
              "        [0.77736928],\n",
              "        [0.75714869],\n",
              "        [0.79370915],\n",
              "        [0.79166667],\n",
              "        [0.77144608],\n",
              "        [0.75265523],\n",
              "        [0.72691993],\n",
              "        [0.6629902 ],\n",
              "        [0.68198529],\n",
              "        [0.64419935],\n",
              "        [0.62152778],\n",
              "        [0.6439951 ],\n",
              "        [0.66319444],\n",
              "        [0.67544935],\n",
              "        [0.63705065],\n",
              "        [0.64603758],\n",
              "        [0.65890523],\n",
              "        [0.65870098],\n",
              "        [0.67790033],\n",
              "        [0.63194444],\n",
              "        [0.63112745],\n",
              "        [0.62785948],\n",
              "        [0.64767157],\n",
              "        [0.63991013],\n",
              "        [0.63480392],\n",
              "        [0.63868464],\n",
              "        [0.62336601],\n",
              "        [0.62745098],\n",
              "        [0.63970588],\n",
              "        [0.64705882],\n",
              "        [0.66196895],\n",
              "        [0.67075163],\n",
              "        [0.65196078],\n",
              "        [0.63112745],\n",
              "        [0.61294935],\n",
              "        [0.6376634 ],\n",
              "        [0.62254902],\n",
              "        [0.62745098],\n",
              "        [0.63337418],\n",
              "        [0.62642974],\n",
              "        [0.63623366],\n",
              "        [0.58312908],\n",
              "        [0.57781863],\n",
              "        [0.57230392],\n",
              "        [0.58006536],\n",
              "        [0.57618464],\n",
              "        [0.55167484],\n",
              "        [0.57883987],\n",
              "        [0.625     ],\n",
              "        [0.63582516],\n",
              "        [0.62949346],\n",
              "        [0.62888072],\n",
              "        [0.62765523],\n",
              "        [0.62234477],\n",
              "        [0.63378268],\n",
              "        [0.62622549],\n",
              "        [0.62214052],\n",
              "        [0.62418301]]))"
            ]
          },
          "metadata": {},
          "execution_count": 17
        }
      ]
    },
    {
      "cell_type": "code",
      "source": [
        "def matrix(dataset, time_step=1):\n",
        "  dataX, dataY = [], []\n",
        "  for i in range(len(dataset)-time_step-1):\n",
        "    a = dataset[i:(i+time_step), 0]\n",
        "    dataX.append(a)\n",
        "    dataY.append(dataset[i + time_step, 0])\n",
        "\n",
        "  return np.array(dataX), np.array(dataY)"
      ],
      "metadata": {
        "id": "SBrdOrWa4Kc4"
      },
      "execution_count": 18,
      "outputs": []
    },
    {
      "cell_type": "code",
      "source": [
        "time_step = 100\n",
        "x_train, y_train = matrix(train_data, time_step)\n",
        "x_test, y_test = matrix(test_data, time_step)"
      ],
      "metadata": {
        "id": "Z7KlgEOw4jiu"
      },
      "execution_count": 19,
      "outputs": []
    },
    {
      "cell_type": "code",
      "source": [
        "x_train.shape,x_test.shape"
      ],
      "metadata": {
        "colab": {
          "base_uri": "https://localhost:8080/"
        },
        "id": "RfAe0x0q4mJW",
        "outputId": "2e47692b-cbdd-428b-e118-621f046a594c"
      },
      "execution_count": 20,
      "outputs": [
        {
          "output_type": "execute_result",
          "data": {
            "text/plain": [
              "((1323, 100), (510, 100))"
            ]
          },
          "metadata": {},
          "execution_count": 20
        }
      ]
    },
    {
      "cell_type": "code",
      "source": [
        "y_train.shape,y_test.shape"
      ],
      "metadata": {
        "colab": {
          "base_uri": "https://localhost:8080/"
        },
        "id": "b5CcJTu94ooW",
        "outputId": "8617a7c3-94ed-4645-ef50-ef65ba563e79"
      },
      "execution_count": 21,
      "outputs": [
        {
          "output_type": "execute_result",
          "data": {
            "text/plain": [
              "((1323,), (510,))"
            ]
          },
          "metadata": {},
          "execution_count": 21
        }
      ]
    },
    {
      "cell_type": "markdown",
      "source": [
        "**RESHAPING THE DATA**"
      ],
      "metadata": {
        "id": "opSg29p-4rKe"
      }
    },
    {
      "cell_type": "code",
      "source": [
        "x_train = x_train.reshape(x_train.shape[0], x_train.shape[1], 1)\n",
        "x_test = x_test.reshape(x_test.shape[0], x_test.shape[1], 1)"
      ],
      "metadata": {
        "id": "3AENpFNR4w2e"
      },
      "execution_count": 22,
      "outputs": []
    },
    {
      "cell_type": "markdown",
      "source": [
        "**CREATING LSTM MODEL**"
      ],
      "metadata": {
        "id": "33vdfLT443n1"
      }
    },
    {
      "cell_type": "code",
      "source": [
        "from tensorflow.keras.models import Sequential\n",
        "from tensorflow.keras.layers import Dense\n",
        "from tensorflow.keras.layers import LSTM"
      ],
      "metadata": {
        "id": "UZFqnWIy40p4"
      },
      "execution_count": 23,
      "outputs": []
    },
    {
      "cell_type": "code",
      "source": [
        "from tensorflow.keras.models import Sequential\n",
        "from tensorflow.keras.layers import Dense\n",
        "from tensorflow.keras.layers import LSTM"
      ],
      "metadata": {
        "id": "ONuaAOnZ47P-"
      },
      "execution_count": 24,
      "outputs": []
    },
    {
      "cell_type": "code",
      "source": [
        "model = Sequential()\n",
        "model.add(LSTM(50, return_sequences=True, input_shape=(100,1)))\n",
        "model.add(LSTM(50, return_sequences=True))\n",
        "model.add(LSTM(50))\n",
        "model.add(Dense(1))\n",
        "model.compile(loss='mean_squared_error', optimizer='adam')\n",
        "model.summary()"
      ],
      "metadata": {
        "colab": {
          "base_uri": "https://localhost:8080/"
        },
        "id": "qNO4lpki49V-",
        "outputId": "caa75d27-304b-492b-dae8-9b0ad05543b4"
      },
      "execution_count": 25,
      "outputs": [
        {
          "output_type": "stream",
          "name": "stdout",
          "text": [
            "Model: \"sequential\"\n",
            "_________________________________________________________________\n",
            " Layer (type)                Output Shape              Param #   \n",
            "=================================================================\n",
            " lstm (LSTM)                 (None, 100, 50)           10400     \n",
            "                                                                 \n",
            " lstm_1 (LSTM)               (None, 100, 50)           20200     \n",
            "                                                                 \n",
            " lstm_2 (LSTM)               (None, 50)                20200     \n",
            "                                                                 \n",
            " dense (Dense)               (None, 1)                 51        \n",
            "                                                                 \n",
            "=================================================================\n",
            "Total params: 50,851\n",
            "Trainable params: 50,851\n",
            "Non-trainable params: 0\n",
            "_________________________________________________________________\n"
          ]
        }
      ]
    },
    {
      "cell_type": "code",
      "source": [
        "model.fit(x_train, y_train, validation_split=0.1, epochs= 60, batch_size=64, verbose = 1)"
      ],
      "metadata": {
        "colab": {
          "base_uri": "https://localhost:8080/"
        },
        "id": "1I6zBMCU5AtW",
        "outputId": "e4936057-73d3-42e2-b5bc-d96aacfcd2fb"
      },
      "execution_count": 26,
      "outputs": [
        {
          "output_type": "stream",
          "name": "stdout",
          "text": [
            "Epoch 1/60\n",
            "19/19 [==============================] - 23s 631ms/step - loss: 0.0123 - val_loss: 0.0012\n",
            "Epoch 2/60\n",
            "19/19 [==============================] - 8s 432ms/step - loss: 0.0022 - val_loss: 0.0010\n",
            "Epoch 3/60\n",
            "19/19 [==============================] - 8s 402ms/step - loss: 0.0010 - val_loss: 0.0012\n",
            "Epoch 4/60\n",
            "19/19 [==============================] - 7s 387ms/step - loss: 8.3240e-04 - val_loss: 0.0010\n",
            "Epoch 5/60\n",
            "19/19 [==============================] - 8s 402ms/step - loss: 7.6182e-04 - val_loss: 0.0010\n",
            "Epoch 6/60\n",
            "19/19 [==============================] - 6s 298ms/step - loss: 7.7027e-04 - val_loss: 9.7353e-04\n",
            "Epoch 7/60\n",
            "19/19 [==============================] - 6s 299ms/step - loss: 7.2838e-04 - val_loss: 9.9371e-04\n",
            "Epoch 8/60\n",
            "19/19 [==============================] - 4s 189ms/step - loss: 7.1499e-04 - val_loss: 9.0369e-04\n",
            "Epoch 9/60\n",
            "19/19 [==============================] - 4s 190ms/step - loss: 6.8812e-04 - val_loss: 8.6064e-04\n",
            "Epoch 10/60\n",
            "19/19 [==============================] - 5s 272ms/step - loss: 6.8458e-04 - val_loss: 9.3447e-04\n",
            "Epoch 11/60\n",
            "19/19 [==============================] - 6s 322ms/step - loss: 6.4981e-04 - val_loss: 7.9427e-04\n",
            "Epoch 12/60\n",
            "19/19 [==============================] - 4s 192ms/step - loss: 6.3954e-04 - val_loss: 7.6821e-04\n",
            "Epoch 13/60\n",
            "19/19 [==============================] - 4s 197ms/step - loss: 6.3154e-04 - val_loss: 8.3056e-04\n",
            "Epoch 14/60\n",
            "19/19 [==============================] - 7s 375ms/step - loss: 6.0675e-04 - val_loss: 6.9861e-04\n",
            "Epoch 15/60\n",
            "19/19 [==============================] - 6s 323ms/step - loss: 5.9020e-04 - val_loss: 6.5954e-04\n",
            "Epoch 16/60\n",
            "19/19 [==============================] - 5s 271ms/step - loss: 5.8495e-04 - val_loss: 6.4731e-04\n",
            "Epoch 17/60\n",
            "19/19 [==============================] - 4s 194ms/step - loss: 5.6922e-04 - val_loss: 6.4682e-04\n",
            "Epoch 18/60\n",
            "19/19 [==============================] - 4s 190ms/step - loss: 5.4417e-04 - val_loss: 6.1383e-04\n",
            "Epoch 19/60\n",
            "19/19 [==============================] - 4s 190ms/step - loss: 5.4979e-04 - val_loss: 6.0202e-04\n",
            "Epoch 20/60\n",
            "19/19 [==============================] - 4s 192ms/step - loss: 5.6376e-04 - val_loss: 7.5015e-04\n",
            "Epoch 21/60\n",
            "19/19 [==============================] - 4s 190ms/step - loss: 5.5320e-04 - val_loss: 6.6227e-04\n",
            "Epoch 22/60\n",
            "19/19 [==============================] - 4s 189ms/step - loss: 5.2325e-04 - val_loss: 5.4094e-04\n",
            "Epoch 23/60\n",
            "19/19 [==============================] - 4s 191ms/step - loss: 4.9347e-04 - val_loss: 5.5520e-04\n",
            "Epoch 24/60\n",
            "19/19 [==============================] - 4s 189ms/step - loss: 4.8263e-04 - val_loss: 5.2006e-04\n",
            "Epoch 25/60\n",
            "19/19 [==============================] - 4s 202ms/step - loss: 4.9487e-04 - val_loss: 5.6267e-04\n",
            "Epoch 26/60\n",
            "19/19 [==============================] - 5s 252ms/step - loss: 4.8022e-04 - val_loss: 5.6899e-04\n",
            "Epoch 27/60\n",
            "19/19 [==============================] - 4s 202ms/step - loss: 4.6908e-04 - val_loss: 4.7467e-04\n",
            "Epoch 28/60\n",
            "19/19 [==============================] - 4s 201ms/step - loss: 4.5250e-04 - val_loss: 4.7514e-04\n",
            "Epoch 29/60\n",
            "19/19 [==============================] - 4s 195ms/step - loss: 4.4624e-04 - val_loss: 4.4886e-04\n",
            "Epoch 30/60\n",
            "19/19 [==============================] - 4s 205ms/step - loss: 4.3914e-04 - val_loss: 4.4683e-04\n",
            "Epoch 31/60\n",
            "19/19 [==============================] - 4s 205ms/step - loss: 4.3847e-04 - val_loss: 6.1508e-04\n",
            "Epoch 32/60\n",
            "19/19 [==============================] - 4s 204ms/step - loss: 4.3275e-04 - val_loss: 4.6467e-04\n",
            "Epoch 33/60\n",
            "19/19 [==============================] - 4s 203ms/step - loss: 4.0405e-04 - val_loss: 4.3504e-04\n",
            "Epoch 34/60\n",
            "19/19 [==============================] - 4s 193ms/step - loss: 4.1620e-04 - val_loss: 3.8942e-04\n",
            "Epoch 35/60\n",
            "19/19 [==============================] - 4s 192ms/step - loss: 3.9560e-04 - val_loss: 3.8839e-04\n",
            "Epoch 36/60\n",
            "19/19 [==============================] - 4s 196ms/step - loss: 3.9185e-04 - val_loss: 4.4173e-04\n",
            "Epoch 37/60\n",
            "19/19 [==============================] - 4s 197ms/step - loss: 3.7258e-04 - val_loss: 3.8773e-04\n",
            "Epoch 38/60\n",
            "19/19 [==============================] - 5s 252ms/step - loss: 3.8391e-04 - val_loss: 3.8089e-04\n",
            "Epoch 39/60\n",
            "19/19 [==============================] - 4s 189ms/step - loss: 3.9440e-04 - val_loss: 3.5372e-04\n",
            "Epoch 40/60\n",
            "19/19 [==============================] - 4s 197ms/step - loss: 3.7612e-04 - val_loss: 3.5136e-04\n",
            "Epoch 41/60\n",
            "19/19 [==============================] - 4s 207ms/step - loss: 3.3552e-04 - val_loss: 3.2393e-04\n",
            "Epoch 42/60\n",
            "19/19 [==============================] - 4s 197ms/step - loss: 3.6625e-04 - val_loss: 3.8252e-04\n",
            "Epoch 43/60\n",
            "19/19 [==============================] - 4s 196ms/step - loss: 3.4744e-04 - val_loss: 3.4543e-04\n",
            "Epoch 44/60\n",
            "19/19 [==============================] - 4s 194ms/step - loss: 3.2738e-04 - val_loss: 2.9600e-04\n",
            "Epoch 45/60\n",
            "19/19 [==============================] - 4s 196ms/step - loss: 3.7683e-04 - val_loss: 4.8719e-04\n",
            "Epoch 46/60\n",
            "19/19 [==============================] - 4s 200ms/step - loss: 3.4481e-04 - val_loss: 2.8954e-04\n",
            "Epoch 47/60\n",
            "19/19 [==============================] - 4s 193ms/step - loss: 2.9547e-04 - val_loss: 2.7789e-04\n",
            "Epoch 48/60\n",
            "19/19 [==============================] - 4s 195ms/step - loss: 2.9373e-04 - val_loss: 3.2261e-04\n",
            "Epoch 49/60\n",
            "19/19 [==============================] - 4s 197ms/step - loss: 2.9047e-04 - val_loss: 2.5364e-04\n",
            "Epoch 50/60\n",
            "19/19 [==============================] - 4s 189ms/step - loss: 2.7693e-04 - val_loss: 3.1440e-04\n",
            "Epoch 51/60\n",
            "19/19 [==============================] - 4s 189ms/step - loss: 2.7866e-04 - val_loss: 2.4534e-04\n",
            "Epoch 52/60\n",
            "19/19 [==============================] - 4s 190ms/step - loss: 2.6426e-04 - val_loss: 2.2811e-04\n",
            "Epoch 53/60\n",
            "19/19 [==============================] - 4s 196ms/step - loss: 2.7553e-04 - val_loss: 2.3435e-04\n",
            "Epoch 54/60\n",
            "19/19 [==============================] - 5s 246ms/step - loss: 2.5451e-04 - val_loss: 2.2820e-04\n",
            "Epoch 55/60\n",
            "19/19 [==============================] - 4s 189ms/step - loss: 2.7153e-04 - val_loss: 2.7326e-04\n",
            "Epoch 56/60\n",
            "19/19 [==============================] - 4s 193ms/step - loss: 2.5712e-04 - val_loss: 2.6762e-04\n",
            "Epoch 57/60\n",
            "19/19 [==============================] - 4s 195ms/step - loss: 2.4708e-04 - val_loss: 3.1962e-04\n",
            "Epoch 58/60\n",
            "19/19 [==============================] - 4s 191ms/step - loss: 2.6462e-04 - val_loss: 2.9579e-04\n",
            "Epoch 59/60\n",
            "19/19 [==============================] - 4s 191ms/step - loss: 2.5322e-04 - val_loss: 2.9764e-04\n",
            "Epoch 60/60\n",
            "19/19 [==============================] - 4s 191ms/step - loss: 2.5677e-04 - val_loss: 2.0427e-04\n"
          ]
        },
        {
          "output_type": "execute_result",
          "data": {
            "text/plain": [
              "<keras.callbacks.History at 0x7f988fb95250>"
            ]
          },
          "metadata": {},
          "execution_count": 26
        }
      ]
    },
    {
      "cell_type": "code",
      "source": [
        "test_predict = model.predict(x_test)"
      ],
      "metadata": {
        "id": "ipIQvYyh5Fgg"
      },
      "execution_count": 27,
      "outputs": []
    },
    {
      "cell_type": "code",
      "source": [
        "inverse_predict = scaler.inverse_transform(test_predict)\n",
        "inverse_predict"
      ],
      "metadata": {
        "id": "6vlgMLDH5PvX"
      },
      "execution_count": null,
      "outputs": []
    },
    {
      "cell_type": "markdown",
      "source": [
        "**MEAN SQUARED ERROR**"
      ],
      "metadata": {
        "id": "F6sNG04q5XPj"
      }
    },
    {
      "cell_type": "code",
      "source": [
        "from sklearn.metrics import mean_squared_error"
      ],
      "metadata": {
        "id": "tZ0_EYe65S5e"
      },
      "execution_count": 28,
      "outputs": []
    },
    {
      "cell_type": "code",
      "source": [
        "mean_sqr_error = mean_squared_error(y_test, test_predict)\n",
        "print(\"The Mean Squared Error is: \", mean_sqr_error)"
      ],
      "metadata": {
        "colab": {
          "base_uri": "https://localhost:8080/"
        },
        "id": "5pCi8UBe5b3f",
        "outputId": "a262c13a-5ac9-40f7-dcaf-04f7babd6010"
      },
      "execution_count": 29,
      "outputs": [
        {
          "output_type": "stream",
          "name": "stdout",
          "text": [
            "The Mean Squared Error is:  0.002041301837112341\n"
          ]
        }
      ]
    },
    {
      "cell_type": "markdown",
      "source": [
        "# **THANK YOU**"
      ],
      "metadata": {
        "id": "RWgG0N_H65XG"
      }
    }
  ]
}